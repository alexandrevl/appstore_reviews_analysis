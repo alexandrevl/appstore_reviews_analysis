{
  "cells": [
    {
      "cell_type": "code",
      "execution_count": 36,
      "metadata": {},
      "outputs": [],
      "source": [
        "#To install all packages\n",
        "#!pip3 install pandas seaborn datetime pymongo\n",
        "#!pip3 install gensim\n",
        "#!pip3 install python-Levenshtein"
      ]
    },
    {
      "cell_type": "code",
      "execution_count": 37,
      "metadata": {},
      "outputs": [],
      "source": [
        "import pandas as pd\n",
        "import seaborn as sns\n",
        "import gensim\n",
        "\n",
        "import warnings\n",
        "warnings.filterwarnings('ignore')\n",
        "\n",
        "\n",
        "sns.set_style(\"dark\")\n",
        "pd.set_option('display.float_format', lambda x: '%.2f' % x)"
      ]
    },
    {
      "cell_type": "code",
      "execution_count": 38,
      "metadata": {},
      "outputs": [],
      "source": [
        "from datetime import datetime, timedelta   \n",
        "from pymongo import MongoClient\n",
        "\n",
        "# uri (uniform resource identifier) defines the connection parameters \n",
        "uri = 'url'\n",
        "# start client to connect to MongoDB server \n",
        "client = MongoClient( uri )\n",
        "db = client.appstore_reviews"
      ]
    },
    {
      "cell_type": "code",
      "execution_count": 39,
      "metadata": {},
      "outputs": [],
      "source": [
        "pipeline = [{\"$match\": {\"dateISO\": {\"$gte\": datetime(2010, 6, 1, 0, 0)} }},{ \"$project\": { \"loja\": 1, \"text\" : \"$comment.text\",\"score\" : \"$comment.score\", \"week\": { \"$week\": \"$dateISO\" }, \"dateISO\":1, \"_id\": 0 } }, { \"$sort\" : { \"dateISO\" : -1 } }, { \"$limit\": 5000000}]\n",
        "\n",
        "mongoList = list(db.reviews.aggregate(pipeline))"
      ]
    },
    {
      "cell_type": "code",
      "execution_count": 40,
      "metadata": {},
      "outputs": [
        {
          "data": {
            "text/html": [
              "<div>\n",
              "<style scoped>\n",
              "    .dataframe tbody tr th:only-of-type {\n",
              "        vertical-align: middle;\n",
              "    }\n",
              "\n",
              "    .dataframe tbody tr th {\n",
              "        vertical-align: top;\n",
              "    }\n",
              "\n",
              "    .dataframe thead th {\n",
              "        text-align: right;\n",
              "    }\n",
              "</style>\n",
              "<table border=\"1\" class=\"dataframe\">\n",
              "  <thead>\n",
              "    <tr style=\"text-align: right;\">\n",
              "      <th></th>\n",
              "      <th>loja</th>\n",
              "      <th>dateISO</th>\n",
              "      <th>text</th>\n",
              "      <th>score</th>\n",
              "      <th>week</th>\n",
              "    </tr>\n",
              "  </thead>\n",
              "  <tbody>\n",
              "    <tr>\n",
              "      <th>0</th>\n",
              "      <td>google</td>\n",
              "      <td>2022-12-08 08:26:02</td>\n",
              "      <td>Não consigo cadastrar a senha pois aparece uma...</td>\n",
              "      <td>1</td>\n",
              "      <td>49</td>\n",
              "    </tr>\n",
              "    <tr>\n",
              "      <th>1</th>\n",
              "      <td>google</td>\n",
              "      <td>2022-12-08 08:17:09</td>\n",
              "      <td>Muito seguro e fácil</td>\n",
              "      <td>5</td>\n",
              "      <td>49</td>\n",
              "    </tr>\n",
              "    <tr>\n",
              "      <th>2</th>\n",
              "      <td>google</td>\n",
              "      <td>2022-12-08 08:14:05</td>\n",
              "      <td>ótimo banco</td>\n",
              "      <td>5</td>\n",
              "      <td>49</td>\n",
              "    </tr>\n",
              "    <tr>\n",
              "      <th>3</th>\n",
              "      <td>google</td>\n",
              "      <td>2022-12-08 08:07:35</td>\n",
              "      <td>muito bom</td>\n",
              "      <td>5</td>\n",
              "      <td>49</td>\n",
              "    </tr>\n",
              "    <tr>\n",
              "      <th>4</th>\n",
              "      <td>google</td>\n",
              "      <td>2022-12-08 08:07:06</td>\n",
              "      <td>Péssimo essa nova atualização não tem a opção ...</td>\n",
              "      <td>1</td>\n",
              "      <td>49</td>\n",
              "    </tr>\n",
              "    <tr>\n",
              "      <th>...</th>\n",
              "      <td>...</td>\n",
              "      <td>...</td>\n",
              "      <td>...</td>\n",
              "      <td>...</td>\n",
              "      <td>...</td>\n",
              "    </tr>\n",
              "    <tr>\n",
              "      <th>121673</th>\n",
              "      <td>apple</td>\n",
              "      <td>2017-06-28 20:27:21</td>\n",
              "      <td>SEGUE ABAIXO O COMENTÁRIO DEIXADO AQUI NA QUIN...</td>\n",
              "      <td>5</td>\n",
              "      <td>26</td>\n",
              "    </tr>\n",
              "    <tr>\n",
              "      <th>121674</th>\n",
              "      <td>apple</td>\n",
              "      <td>2017-06-04 22:17:22</td>\n",
              "      <td>Não aceita entrada de gastos manuais, ou seja,...</td>\n",
              "      <td>1</td>\n",
              "      <td>23</td>\n",
              "    </tr>\n",
              "    <tr>\n",
              "      <th>121675</th>\n",
              "      <td>apple</td>\n",
              "      <td>2017-05-03 11:30:34</td>\n",
              "      <td>O app é muito bom, mas não consigo acessar ess...</td>\n",
              "      <td>5</td>\n",
              "      <td>18</td>\n",
              "    </tr>\n",
              "    <tr>\n",
              "      <th>121676</th>\n",
              "      <td>apple</td>\n",
              "      <td>2017-03-28 12:39:34</td>\n",
              "      <td>Muito bom esse aplicativo eu não pego mais fil...</td>\n",
              "      <td>5</td>\n",
              "      <td>13</td>\n",
              "    </tr>\n",
              "    <tr>\n",
              "      <th>121677</th>\n",
              "      <td>apple</td>\n",
              "      <td>2017-03-28 05:03:23</td>\n",
              "      <td>Tpoo</td>\n",
              "      <td>5</td>\n",
              "      <td>13</td>\n",
              "    </tr>\n",
              "  </tbody>\n",
              "</table>\n",
              "<p>121678 rows × 5 columns</p>\n",
              "</div>"
            ],
            "text/plain": [
              "          loja             dateISO  \\\n",
              "0       google 2022-12-08 08:26:02   \n",
              "1       google 2022-12-08 08:17:09   \n",
              "2       google 2022-12-08 08:14:05   \n",
              "3       google 2022-12-08 08:07:35   \n",
              "4       google 2022-12-08 08:07:06   \n",
              "...        ...                 ...   \n",
              "121673   apple 2017-06-28 20:27:21   \n",
              "121674   apple 2017-06-04 22:17:22   \n",
              "121675   apple 2017-05-03 11:30:34   \n",
              "121676   apple 2017-03-28 12:39:34   \n",
              "121677   apple 2017-03-28 05:03:23   \n",
              "\n",
              "                                                     text  score  week  \n",
              "0       Não consigo cadastrar a senha pois aparece uma...      1    49  \n",
              "1                                    Muito seguro e fácil      5    49  \n",
              "2                                             ótimo banco      5    49  \n",
              "3                                               muito bom      5    49  \n",
              "4       Péssimo essa nova atualização não tem a opção ...      1    49  \n",
              "...                                                   ...    ...   ...  \n",
              "121673  SEGUE ABAIXO O COMENTÁRIO DEIXADO AQUI NA QUIN...      5    26  \n",
              "121674  Não aceita entrada de gastos manuais, ou seja,...      1    23  \n",
              "121675  O app é muito bom, mas não consigo acessar ess...      5    18  \n",
              "121676  Muito bom esse aplicativo eu não pego mais fil...      5    13  \n",
              "121677                                               Tpoo      5    13  \n",
              "\n",
              "[121678 rows x 5 columns]"
            ]
          },
          "execution_count": 40,
          "metadata": {},
          "output_type": "execute_result"
        }
      ],
      "source": [
        "data = pd.DataFrame(mongoList)\n",
        "# data['ts'] = pd.to_datetime(data['ts'], unit='s')\n",
        "# data.ts = data.ts - timedelta(hours = 3)\n",
        "data"
      ]
    },
    {
      "cell_type": "code",
      "execution_count": 41,
      "metadata": {},
      "outputs": [],
      "source": [
        "review_text = data.text.apply(gensim.utils.simple_preprocess)"
      ]
    },
    {
      "cell_type": "code",
      "execution_count": 42,
      "metadata": {},
      "outputs": [
        {
          "data": {
            "text/plain": [
              "0         [não, consigo, cadastrar, senha, pois, aparece...\n",
              "1                                    [muito, seguro, fácil]\n",
              "2                                            [ótimo, banco]\n",
              "3                                              [muito, bom]\n",
              "4         [péssimo, essa, nova, atualização, não, tem, o...\n",
              "                                ...                        \n",
              "121673    [segue, abaixo, comentário, deixado, aqui, na,...\n",
              "121674    [não, aceita, entrada, de, gastos, manuais, ou...\n",
              "121675    [app, muito, bom, mas, não, consigo, acessar, ...\n",
              "121676    [muito, bom, esse, aplicativo, eu, não, pego, ...\n",
              "121677                                               [tpoo]\n",
              "Name: text, Length: 121678, dtype: object"
            ]
          },
          "execution_count": 42,
          "metadata": {},
          "output_type": "execute_result"
        }
      ],
      "source": [
        "review_text"
      ]
    },
    {
      "cell_type": "code",
      "execution_count": 43,
      "metadata": {},
      "outputs": [
        {
          "data": {
            "text/plain": [
              "['não',\n",
              " 'consigo',\n",
              " 'cadastrar',\n",
              " 'senha',\n",
              " 'pois',\n",
              " 'aparece',\n",
              " 'uma',\n",
              " 'msg',\n",
              " 'de',\n",
              " 'transação',\n",
              " 'não',\n",
              " 'efetuada',\n",
              " 'porque',\n",
              " 'isso']"
            ]
          },
          "execution_count": 43,
          "metadata": {},
          "output_type": "execute_result"
        }
      ],
      "source": [
        "review_text.loc[0]"
      ]
    },
    {
      "cell_type": "code",
      "execution_count": 44,
      "metadata": {},
      "outputs": [],
      "source": [
        "model = gensim.models.Word2Vec(\n",
        "    window=10,\n",
        "    min_count=2,\n",
        "    workers=4,\n",
        ")\n"
      ]
    },
    {
      "cell_type": "code",
      "execution_count": 45,
      "metadata": {},
      "outputs": [],
      "source": [
        "model.build_vocab(review_text, progress_per=1000)"
      ]
    },
    {
      "cell_type": "code",
      "execution_count": 46,
      "metadata": {},
      "outputs": [
        {
          "data": {
            "text/plain": [
              "(4980202, 6722720)"
            ]
          },
          "execution_count": 46,
          "metadata": {},
          "output_type": "execute_result"
        }
      ],
      "source": [
        "model.train(review_text, total_examples=model.corpus_count, epochs=model.epochs)\n"
      ]
    },
    {
      "cell_type": "code",
      "execution_count": 47,
      "metadata": {},
      "outputs": [],
      "source": [
        "model.save(\"./word2vec-reviews.model\")"
      ]
    },
    {
      "cell_type": "code",
      "execution_count": 55,
      "metadata": {},
      "outputs": [
        {
          "data": {
            "text/plain": [
              "[('so', 0.7446611523628235),\n",
              " ('nao', 0.6538557410240173),\n",
              " ('cartão', 0.6523281335830688),\n",
              " ('ja', 0.6179460883140564),\n",
              " ('numero', 0.5808336734771729),\n",
              " ('mes', 0.5792463421821594),\n",
              " ('ai', 0.5673089027404785),\n",
              " ('fisico', 0.5653914213180542),\n",
              " ('reducir', 0.5623531937599182),\n",
              " ('porem', 0.5596981644630432)]"
            ]
          },
          "execution_count": 55,
          "metadata": {},
          "output_type": "execute_result"
        }
      ],
      "source": [
        "model.wv.most_similar(\"cartao\")"
      ]
    },
    {
      "cell_type": "code",
      "execution_count": 54,
      "metadata": {},
      "outputs": [
        {
          "data": {
            "text/plain": [
              "0.024375597"
            ]
          },
          "execution_count": 54,
          "metadata": {},
          "output_type": "execute_result"
        }
      ],
      "source": [
        "model.wv.similarity(w1=\"pix\", w2=\"banco\")"
      ]
    },
    {
      "cell_type": "code",
      "execution_count": null,
      "metadata": {},
      "outputs": [],
      "source": []
    }
  ],
  "metadata": {
    "kernelspec": {
      "display_name": "Python 3",
      "language": "python",
      "name": "python3"
    },
    "language_info": {
      "codemirror_mode": {
        "name": "ipython",
        "version": 3
      },
      "file_extension": ".py",
      "mimetype": "text/x-python",
      "name": "python",
      "nbconvert_exporter": "python",
      "pygments_lexer": "ipython3",
      "version": "3.10.8 (main, Nov 13 2022, 21:09:49) [Clang 14.0.0 (clang-1400.0.29.202)]"
    },
    "orig_nbformat": 4,
    "vscode": {
      "interpreter": {
        "hash": "ab2ec00db9655bf0dd2b51d1c440a2417bf2f75ab2bdb4fd6d80a8a8e3245610"
      }
    }
  },
  "nbformat": 4,
  "nbformat_minor": 2
}
